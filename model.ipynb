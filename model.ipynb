{
 "cells": [
  {
   "cell_type": "markdown",
   "metadata": {},
   "source": [
    "# Random Forest Model"
   ]
  },
  {
   "cell_type": "code",
   "execution_count": 50,
   "metadata": {},
   "outputs": [],
   "source": [
    "# imports\n",
    "\n",
    "import pandas as pd\n",
    "import random\n",
    "from sklearn.ensemble import RandomForestClassifier\n",
    "from sklearn.model_selection import train_test_split\n",
    "from sklearn.metrics import accuracy_score, f1_score\n",
    "from sklearn.preprocessing import StandardScaler"
   ]
  },
  {
   "cell_type": "code",
   "execution_count": 51,
   "metadata": {},
   "outputs": [
    {
     "data": {
      "text/plain": [
       "(24783, 1004)"
      ]
     },
     "execution_count": 51,
     "metadata": {},
     "output_type": "execute_result"
    }
   ],
   "source": [
    "# Load dataset\n",
    "\n",
    "file = \"Datasets/PreProcessed/dataset1Finalised_tfidf_col_500_new.csv\"\n",
    "\n",
    "# Counting number of rows in dataset\n",
    "n = sum(1 for line in open(file))-1\n",
    "\n",
    "# Getting a sample size of 5%\n",
    "s = n//5\n",
    "\n",
    "skip = sorted(random.sample(range(1, n+1), n-s))\n",
    "\n",
    "# df = pd.read_csv(file, skiprows=skip)\n",
    "df = pd.read_csv(file)\n",
    "\n",
    "df.shape"
   ]
  },
  {
   "cell_type": "code",
   "execution_count": 52,
   "metadata": {},
   "outputs": [
    {
     "data": {
      "text/html": [
       "<div>\n",
       "<style scoped>\n",
       "    .dataframe tbody tr th:only-of-type {\n",
       "        vertical-align: middle;\n",
       "    }\n",
       "\n",
       "    .dataframe tbody tr th {\n",
       "        vertical-align: top;\n",
       "    }\n",
       "\n",
       "    .dataframe thead th {\n",
       "        text-align: right;\n",
       "    }\n",
       "</style>\n",
       "<table border=\"1\" class=\"dataframe\">\n",
       "  <thead>\n",
       "    <tr style=\"text-align: right;\">\n",
       "      <th></th>\n",
       "      <th>rt</th>\n",
       "      <th>woman</th>\n",
       "      <th>shouldnt</th>\n",
       "      <th>complain</th>\n",
       "      <th>house</th>\n",
       "      <th>amp</th>\n",
       "      <th>man</th>\n",
       "      <th>always</th>\n",
       "      <th>take</th>\n",
       "      <th>trash</th>\n",
       "      <th>...</th>\n",
       "      <th>rick</th>\n",
       "      <th>http8230</th>\n",
       "      <th>httpt8230</th>\n",
       "      <th>ho8230</th>\n",
       "      <th>1stblocjeremiah</th>\n",
       "      <th>httptco8230</th>\n",
       "      <th>orig_tweets</th>\n",
       "      <th>sentiment_value</th>\n",
       "      <th>class_value</th>\n",
       "      <th>word_count</th>\n",
       "    </tr>\n",
       "  </thead>\n",
       "  <tbody>\n",
       "    <tr>\n",
       "      <th>0</th>\n",
       "      <td>0.0</td>\n",
       "      <td>0.0</td>\n",
       "      <td>0.0</td>\n",
       "      <td>0.0</td>\n",
       "      <td>0.0</td>\n",
       "      <td>0.0</td>\n",
       "      <td>0.0</td>\n",
       "      <td>0.0</td>\n",
       "      <td>0.0</td>\n",
       "      <td>0.0</td>\n",
       "      <td>...</td>\n",
       "      <td>0.0</td>\n",
       "      <td>0.0</td>\n",
       "      <td>0.0</td>\n",
       "      <td>0.0</td>\n",
       "      <td>0.0</td>\n",
       "      <td>0.0</td>\n",
       "      <td>rt mayasolovely woman shouldnt complain cleani...</td>\n",
       "      <td>1</td>\n",
       "      <td>2</td>\n",
       "      <td>12</td>\n",
       "    </tr>\n",
       "  </tbody>\n",
       "</table>\n",
       "<p>1 rows × 1004 columns</p>\n",
       "</div>"
      ],
      "text/plain": [
       "    rt  woman  shouldnt  complain  house  amp  man  always  take  trash  ...  \\\n",
       "0  0.0    0.0       0.0       0.0    0.0  0.0  0.0     0.0   0.0    0.0  ...   \n",
       "\n",
       "   rick  http8230  httpt8230  ho8230  1stblocjeremiah  httptco8230  \\\n",
       "0   0.0       0.0        0.0     0.0              0.0          0.0   \n",
       "\n",
       "                                         orig_tweets  sentiment_value  \\\n",
       "0  rt mayasolovely woman shouldnt complain cleani...                1   \n",
       "\n",
       "   class_value  word_count  \n",
       "0            2          12  \n",
       "\n",
       "[1 rows x 1004 columns]"
      ]
     },
     "execution_count": 52,
     "metadata": {},
     "output_type": "execute_result"
    }
   ],
   "source": [
    "df.head(1)"
   ]
  },
  {
   "cell_type": "code",
   "execution_count": 53,
   "metadata": {},
   "outputs": [
    {
     "data": {
      "text/plain": [
       "(17348, 1002)"
      ]
     },
     "execution_count": 53,
     "metadata": {},
     "output_type": "execute_result"
    }
   ],
   "source": [
    "# Scaling features\n",
    "scaler = StandardScaler()\n",
    "\n",
    "# Splitting dataset\n",
    "x = scaler.fit_transform(df.drop([\"class_value\", 'orig_tweets'], axis=1))\n",
    "y = df[\"class_value\"]\n",
    "\n",
    "# Splitting dataset \n",
    "x_train, x_test, y_train, y_test = train_test_split(x, y, test_size=0.3, random_state=42)\n",
    "\n",
    "x_train.shape"
   ]
  },
  {
   "cell_type": "code",
   "execution_count": 54,
   "metadata": {},
   "outputs": [
    {
     "name": "stdout",
     "output_type": "stream",
     "text": [
      "Accuracy: [0.9402824478816408]\n",
      "F1-score: [0.9402824478816408]\n"
     ]
    }
   ],
   "source": [
    "# random Forest model\n",
    "\n",
    "model = RandomForestClassifier(n_estimators=20, criterion='log_loss', random_state=42)\n",
    "\n",
    "acc = []\n",
    "f1 = []\n",
    "\n",
    "clf = model\n",
    "clf.fit(x_train, y_train)\n",
    "pred = clf.predict(x_test)\n",
    "acc.append(accuracy_score(pred, y_test))\n",
    "f1.append(f1_score(pred, y_test, average='micro'))\n",
    "\n",
    "print(\"Accuracy:\", acc)\n",
    "print(\"F1-score:\", f1)"
   ]
  }
 ],
 "metadata": {
  "kernelspec": {
   "display_name": ".venv",
   "language": "python",
   "name": "python3"
  },
  "language_info": {
   "codemirror_mode": {
    "name": "ipython",
    "version": 3
   },
   "file_extension": ".py",
   "mimetype": "text/x-python",
   "name": "python",
   "nbconvert_exporter": "python",
   "pygments_lexer": "ipython3",
   "version": "3.11.9"
  }
 },
 "nbformat": 4,
 "nbformat_minor": 2
}
