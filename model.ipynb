{
 "cells": [
  {
   "cell_type": "markdown",
   "metadata": {},
   "source": [
    "# Keras Model"
   ]
  },
  {
   "cell_type": "code",
   "execution_count": 106,
   "metadata": {},
   "outputs": [],
   "source": [
    "# imports\n",
    "\n",
    "import pandas as pd\n",
    "import random\n",
    "from sklearn.ensemble import RandomForestClassifier\n",
    "from sklearn.model_selection import train_test_split\n",
    "from sklearn.metrics import accuracy_score, precision_score, f1_score\n",
    "from sklearn.preprocessing import MinMaxScaler, StandardScaler"
   ]
  },
  {
   "cell_type": "code",
   "execution_count": 107,
   "metadata": {},
   "outputs": [
    {
     "data": {
      "text/plain": [
       "(24783, 503)"
      ]
     },
     "execution_count": 107,
     "metadata": {},
     "output_type": "execute_result"
    }
   ],
   "source": [
    "# Load dataset\n",
    "\n",
    "file = \"Datasets/PreProcessed/dataset1Finalised_tfidf_col_500.csv\"\n",
    "\n",
    "# Counting number of rows in dataset\n",
    "n = sum(1 for line in open(file))-1\n",
    "\n",
    "# Getting a sample size of 5%\n",
    "s = n//5\n",
    "\n",
    "skip = sorted(random.sample(range(1, n+1), n-s))\n",
    "\n",
    "# df = pd.read_csv(file, skiprows=skip)\n",
    "df = pd.read_csv(file)\n",
    "\n",
    "df.shape"
   ]
  },
  {
   "cell_type": "code",
   "execution_count": 108,
   "metadata": {},
   "outputs": [
    {
     "data": {
      "text/plain": [
       "(17348, 500)"
      ]
     },
     "execution_count": 108,
     "metadata": {},
     "output_type": "execute_result"
    }
   ],
   "source": [
    "# Scaling features\n",
    "scaler = StandardScaler()\n",
    "\n",
    "# Splitting dataset\n",
    "x = scaler.fit_transform(df.drop([\"class_value\", 'orig_tweets', 'sentiment_value'], axis=1))\n",
    "y = df[\"class_value\"]\n",
    "\n",
    "# Splitting dataset \n",
    "x_train, x_test, y_train, y_test = train_test_split(x, y, test_size=0.3, random_state=42)\n",
    "\n",
    "x_train.shape"
   ]
  },
  {
   "cell_type": "code",
   "execution_count": 109,
   "metadata": {},
   "outputs": [
    {
     "name": "stdout",
     "output_type": "stream",
     "text": [
      "Accuracy: [0.881102891728312]\n",
      "F1-score: [0.881102891728312]\n"
     ]
    }
   ],
   "source": [
    "# random Forest model\n",
    "\n",
    "model = RandomForestClassifier(n_estimators=20, criterion='entropy', random_state=42)\n",
    "\n",
    "acc = []\n",
    "f1 = []\n",
    "\n",
    "clf = model\n",
    "clf.fit(x_train, y_train)\n",
    "pred = clf.predict(x_test)\n",
    "acc.append(accuracy_score(pred, y_test))\n",
    "f1.append(f1_score(pred, y_test, average='micro'))\n",
    "\n",
    "print(\"Accuracy:\", acc)\n",
    "print(\"F1-score:\", f1)"
   ]
  }
 ],
 "metadata": {
  "kernelspec": {
   "display_name": ".venv",
   "language": "python",
   "name": "python3"
  },
  "language_info": {
   "codemirror_mode": {
    "name": "ipython",
    "version": 3
   },
   "file_extension": ".py",
   "mimetype": "text/x-python",
   "name": "python",
   "nbconvert_exporter": "python",
   "pygments_lexer": "ipython3",
   "version": "3.12.4"
  }
 },
 "nbformat": 4,
 "nbformat_minor": 2
}
